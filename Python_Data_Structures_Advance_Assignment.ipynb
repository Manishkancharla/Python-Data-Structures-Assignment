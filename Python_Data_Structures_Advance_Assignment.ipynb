{
  "nbformat": 4,
  "nbformat_minor": 0,
  "metadata": {
    "colab": {
      "provenance": [],
      "authorship_tag": "ABX9TyO8hqLFFzsUU0bxRG3jTS/6",
      "include_colab_link": true
    },
    "kernelspec": {
      "name": "python3",
      "display_name": "Python 3"
    },
    "language_info": {
      "name": "python"
    }
  },
  "cells": [
    {
      "cell_type": "markdown",
      "metadata": {
        "id": "view-in-github",
        "colab_type": "text"
      },
      "source": [
        "<a href=\"https://colab.research.google.com/github/Manishkancharla/Python-Data-Structures-Assignment/blob/main/Python_Data_Structures_Advance_Assignment.ipynb\" target=\"_parent\"><img src=\"https://colab.research.google.com/assets/colab-badge.svg\" alt=\"Open In Colab\"/></a>"
      ]
    },
    {
      "cell_type": "markdown",
      "source": [
        "1) Write a code to reverse a string?"
      ],
      "metadata": {
        "id": "Sei2i63yemeW"
      }
    },
    {
      "cell_type": "code",
      "execution_count": 1,
      "metadata": {
        "colab": {
          "base_uri": "https://localhost:8080/"
        },
        "id": "vsCaKf1eecyS",
        "outputId": "cbfeb0bb-05e4-493c-c5ba-643f7c62da7e"
      },
      "outputs": [
        {
          "output_type": "stream",
          "name": "stdout",
          "text": [
            "Original String: Hello, World!\n",
            "Reversed String: !dlroW ,olleH\n"
          ]
        }
      ],
      "source": [
        "# Function to reverse a string\n",
        "def reverse_string(s):\n",
        "    return s[::-1]\n",
        "\n",
        "# Example usage\n",
        "string = \"Hello, World!\"\n",
        "reversed_string = reverse_string(string)\n",
        "print(\"Original String:\", string)\n",
        "print(\"Reversed String:\", reversed_string)\n"
      ]
    },
    {
      "cell_type": "markdown",
      "source": [
        "2)  Write a code to count the number of vowels in a string?"
      ],
      "metadata": {
        "id": "kF3wmP_ken4L"
      }
    },
    {
      "cell_type": "code",
      "source": [
        "# Function to count vowels\n",
        "def count_vowels(s):\n",
        "    vowels = \"aeiouAEIOU\"\n",
        "    count = sum(1 for char in s if char in vowels)\n",
        "    return count\n",
        "\n",
        "# Example usage\n",
        "string = \"Hello, World!\"\n",
        "vowel_count = count_vowels(string)\n",
        "print(\"String:\", string)\n",
        "print(\"Number of vowels:\", vowel_count)\n",
        "\n"
      ],
      "metadata": {
        "colab": {
          "base_uri": "https://localhost:8080/"
        },
        "id": "f9aN_mhpeoMd",
        "outputId": "dea17cd9-b252-43a3-d5fd-11fb609d8313"
      },
      "execution_count": 2,
      "outputs": [
        {
          "output_type": "stream",
          "name": "stdout",
          "text": [
            "String: Hello, World!\n",
            "Number of vowels: 3\n"
          ]
        }
      ]
    },
    {
      "cell_type": "markdown",
      "source": [
        "3) Write a code to check if a given string is a palindrome or not?"
      ],
      "metadata": {
        "id": "kBHHYvBkeodW"
      }
    },
    {
      "cell_type": "code",
      "source": [
        "# Function to check if a string is a palindrome\n",
        "def is_palindrome(s):\n",
        "    s = s.lower().replace(\" \", \"\")  # Ignore case and spaces\n",
        "    return s == s[::-1]\n",
        "\n",
        "# Example usage\n",
        "string = input(\"Enter a string: \")\n",
        "if is_palindrome(string):\n",
        "    print(f'\"{string}\" is a palindrome.')\n",
        "else:\n",
        "    print(f'\"{string}\" is not a palindrome.')\n"
      ],
      "metadata": {
        "colab": {
          "base_uri": "https://localhost:8080/"
        },
        "id": "dfLXhZJUeoyQ",
        "outputId": "34e0894e-05f1-4c90-a165-920eccdc42a2"
      },
      "execution_count": 3,
      "outputs": [
        {
          "output_type": "stream",
          "name": "stdout",
          "text": [
            "Enter a string: Manish\n",
            "\"Manish\" is not a palindrome.\n"
          ]
        }
      ]
    },
    {
      "cell_type": "markdown",
      "source": [
        "4) Write a code to check if two given strings are anagrams of each other?"
      ],
      "metadata": {
        "id": "5mjmvKm0epDo"
      }
    },
    {
      "cell_type": "code",
      "source": [
        "# Function to check if two strings are anagrams\n",
        "def are_anagrams(str1, str2):\n",
        "    # Remove spaces and convert to lowercase\n",
        "    str1 = str1.replace(\" \", \"\").lower()\n",
        "    str2 = str2.replace(\" \", \"\").lower()\n",
        "    # Compare sorted versions of the strings\n",
        "    return sorted(str1) == sorted(str2)\n",
        "\n",
        "# Example usage\n",
        "string1 = input(\"Enter the first string: \")\n",
        "string2 = input(\"Enter the second string: \")\n",
        "\n",
        "if are_anagrams(string1, string2):\n",
        "    print(f'\"{string1}\" and \"{string2}\" are anagrams.')\n",
        "else:\n",
        "    print(f'\"{string1}\" and \"{string2}\" are not anagrams.')\n"
      ],
      "metadata": {
        "colab": {
          "base_uri": "https://localhost:8080/"
        },
        "id": "zoCqWzOoepYK",
        "outputId": "65a0db18-aa15-46cc-c346-d869da505124"
      },
      "execution_count": 4,
      "outputs": [
        {
          "output_type": "stream",
          "name": "stdout",
          "text": [
            "Enter the first string: Hindu\n",
            "Enter the second string: Hindustan\n",
            "\"Hindu\" and \"Hindustan\" are not anagrams.\n"
          ]
        }
      ]
    },
    {
      "cell_type": "markdown",
      "source": [
        "5) Write a code to find all occurrences of a given substring within another string?"
      ],
      "metadata": {
        "id": "gFO-QVPwepsE"
      }
    },
    {
      "cell_type": "code",
      "source": [
        "# Function to find all occurrences of a substring\n",
        "def find_all_occurrences(text, substring):\n",
        "    positions = []\n",
        "    start = 0\n",
        "\n",
        "    while True:\n",
        "        start = text.find(substring, start)\n",
        "        if start == -1:\n",
        "            break\n",
        "        positions.append(start)\n",
        "        start += 1  # Move past the last found position\n",
        "\n",
        "    return positions\n",
        "\n",
        "# Example usage\n",
        "text = input(\"Enter the main string: \")\n",
        "substring = input(\"Enter the substring to search for: \")\n",
        "\n",
        "occurrences = find_all_occurrences(text, substring)\n",
        "\n",
        "if occurrences:\n",
        "    print(f'The substring \"{substring}\" was found at positions: {occurrences}')\n",
        "else:\n",
        "    print(f'The substring \"{substring}\" was not found.')\n"
      ],
      "metadata": {
        "colab": {
          "base_uri": "https://localhost:8080/"
        },
        "id": "MZ_q3hXQeqFj",
        "outputId": "0b46010d-5003-4fd1-cc0c-2f30e9531a0d"
      },
      "execution_count": 5,
      "outputs": [
        {
          "output_type": "stream",
          "name": "stdout",
          "text": [
            "Enter the main string: World\n",
            "Enter the substring to search for: Hindustan\n",
            "The substring \"Hindustan\" was not found.\n"
          ]
        }
      ]
    },
    {
      "cell_type": "markdown",
      "source": [
        "6) Write a code to perform basic string compression using the counts of repeated characters?"
      ],
      "metadata": {
        "id": "vaMcW9tjeqhD"
      }
    },
    {
      "cell_type": "code",
      "source": [
        "# Function to perform basic string compression\n",
        "def compress_string(s):\n",
        "    compressed = []\n",
        "    count = 1\n",
        "\n",
        "    for i in range(1, len(s)):\n",
        "        if s[i] == s[i - 1]:\n",
        "            count += 1\n",
        "        else:\n",
        "            compressed.append(s[i - 1] + str(count))\n",
        "            count = 1\n",
        "\n",
        "    # Add the last character and its count\n",
        "    if s:\n",
        "        compressed.append(s[-1] + str(count))\n",
        "\n",
        "    compressed_string = ''.join(compressed)\n",
        "    return compressed_string if len(compressed_string) < len(s) else s\n",
        "\n",
        "# Example usage\n",
        "string = input(\"Enter a string: \")\n",
        "result = compress_string(string)\n",
        "print(\"Compressed string:\", result)\n"
      ],
      "metadata": {
        "colab": {
          "base_uri": "https://localhost:8080/"
        },
        "id": "zE-uhA5neqxy",
        "outputId": "ebf9f618-d2f9-4df7-d2de-bfb191e8a422"
      },
      "execution_count": 6,
      "outputs": [
        {
          "output_type": "stream",
          "name": "stdout",
          "text": [
            "Enter a string: manish\n",
            "Compressed string: manish\n"
          ]
        }
      ]
    },
    {
      "cell_type": "markdown",
      "source": [
        "7) Write a code to determine if a string has all unique characters?"
      ],
      "metadata": {
        "id": "AoOcoL3qerCN"
      }
    },
    {
      "cell_type": "code",
      "source": [
        "# Function to check if a string has all unique characters\n",
        "def has_unique_characters(s):\n",
        "    # Use a set to track unique characters\n",
        "    return len(set(s)) == len(s)\n",
        "\n",
        "# Example usage\n",
        "string = input(\"Enter a string: \")\n",
        "\n",
        "if has_unique_characters(string):\n",
        "    print(f'The string \"{string}\" has all unique characters.')\n",
        "else:\n",
        "    print(f'The string \"{string}\" does not have all unique characters.')\n",
        "\n"
      ],
      "metadata": {
        "colab": {
          "base_uri": "https://localhost:8080/"
        },
        "id": "4V3qt1RMerU2",
        "outputId": "9b18b966-c846-4b3d-a232-a3f222267517"
      },
      "execution_count": 7,
      "outputs": [
        {
          "output_type": "stream",
          "name": "stdout",
          "text": [
            "Enter a string: manish\n",
            "The string \"manish\" has all unique characters.\n"
          ]
        }
      ]
    },
    {
      "cell_type": "markdown",
      "source": [
        "8) Write a code to convert a given string to uppercase or lowercase?"
      ],
      "metadata": {
        "id": "HmAj9Tv8erxN"
      }
    },
    {
      "cell_type": "code",
      "source": [
        "# Function to convert string to uppercase and lowercase\n",
        "def convert_case(s):\n",
        "    uppercase = s.upper()\n",
        "    lowercase = s.lower()\n",
        "    return uppercase, lowercase\n",
        "\n",
        "# Example usage\n",
        "string = input(\"Enter a string: \")\n",
        "\n",
        "upper, lower = convert_case(string)\n",
        "print(\"Uppercase:\", upper)\n",
        "print(\"Lowercase:\", lower)\n"
      ],
      "metadata": {
        "colab": {
          "base_uri": "https://localhost:8080/"
        },
        "id": "ArAH2jxWesCF",
        "outputId": "f89c46b2-7d4f-406c-b2e3-3340229cfd52"
      },
      "execution_count": 8,
      "outputs": [
        {
          "output_type": "stream",
          "name": "stdout",
          "text": [
            "Enter a string: MANISH\n",
            "Uppercase: MANISH\n",
            "Lowercase: manish\n"
          ]
        }
      ]
    },
    {
      "cell_type": "markdown",
      "source": [
        "9) Write a code to count the number of words in a string?"
      ],
      "metadata": {
        "id": "0PJqH83Nesdp"
      }
    },
    {
      "cell_type": "code",
      "source": [
        "# Function to count words in a string\n",
        "def count_words(s):\n",
        "    words = s.split()  # Split the string by whitespace\n",
        "    return len(words)\n",
        "\n",
        "# Example usage\n",
        "string = input(\"Enter a string: \")\n",
        "word_count = count_words(string)\n",
        "print(f'The number of words in the string is: {word_count}')\n"
      ],
      "metadata": {
        "colab": {
          "base_uri": "https://localhost:8080/"
        },
        "id": "yN6i80Nwes1S",
        "outputId": "b2eac610-8818-477f-fc80-9e9dddd2a18e"
      },
      "execution_count": 9,
      "outputs": [
        {
          "output_type": "stream",
          "name": "stdout",
          "text": [
            "Enter a string: manish\n",
            "The number of words in the string is: 1\n"
          ]
        }
      ]
    },
    {
      "cell_type": "markdown",
      "source": [
        "10) Write a code to concatenate two strings without using the + operator?"
      ],
      "metadata": {
        "id": "K9ExqK4betMP"
      }
    },
    {
      "cell_type": "code",
      "source": [
        "# Function to concatenate two strings\n",
        "def concatenate_strings(str1, str2):\n",
        "    return \"{}{}\".format(str1, str2)\n",
        "\n",
        "# Example usage\n",
        "string1 = input(\"Enter the first string: \")\n",
        "string2 = input(\"Enter the second string: \")\n",
        "\n",
        "result = concatenate_strings(string1, string2)\n",
        "print(\"Concatenated string:\", result)\n"
      ],
      "metadata": {
        "colab": {
          "base_uri": "https://localhost:8080/"
        },
        "id": "5j-KJ8RnetfW",
        "outputId": "9f75b693-fdcf-4b96-93aa-8bff0b8587c4"
      },
      "execution_count": 10,
      "outputs": [
        {
          "output_type": "stream",
          "name": "stdout",
          "text": [
            "Enter the first string: manish\n",
            "Enter the second string: kancharla\n",
            "Concatenated string: manishkancharla\n"
          ]
        }
      ]
    },
    {
      "cell_type": "markdown",
      "source": [
        "11) Write a code to remove all occurrences of a specific element from a list?"
      ],
      "metadata": {
        "id": "FnsSIHzdhGkP"
      }
    },
    {
      "cell_type": "code",
      "source": [
        "# Function to remove all occurrences of a specific element\n",
        "def remove_element(lst, element):\n",
        "    return [item for item in lst if item != element]\n",
        "\n",
        "# Example usage\n",
        "my_list = [1, 2, 3, 4, 2, 5, 2]\n",
        "element_to_remove = int(input(\"Enter the element to remove: \"))\n",
        "\n",
        "updated_list = remove_element(my_list, element_to_remove)\n",
        "print(\"Updated list:\", updated_list)\n"
      ],
      "metadata": {
        "colab": {
          "base_uri": "https://localhost:8080/"
        },
        "id": "adMdfCR_hG1z",
        "outputId": "bf31bf4a-c2ef-492c-cd05-db39e7142fba"
      },
      "execution_count": 11,
      "outputs": [
        {
          "output_type": "stream",
          "name": "stdout",
          "text": [
            "Enter the element to remove: 3\n",
            "Updated list: [1, 2, 4, 2, 5, 2]\n"
          ]
        }
      ]
    },
    {
      "cell_type": "markdown",
      "source": [
        "12) Implement a code to find the second largest number in a given list of integers?"
      ],
      "metadata": {
        "id": "Qt1s0yefhHQJ"
      }
    },
    {
      "cell_type": "code",
      "source": [
        "# Function to find the second largest number in a list\n",
        "def second_largest(lst):\n",
        "    # Remove duplicates by converting the list to a set\n",
        "    unique_lst = list(set(lst))\n",
        "\n",
        "    # If there are fewer than two unique elements, return None\n",
        "    if len(unique_lst) < 2:\n",
        "        return None\n",
        "\n",
        "    # Sort the list in descending order\n",
        "    unique_lst.sort(reverse=True)\n",
        "\n",
        "    # The second element will be the second largest\n",
        "    return unique_lst[1]\n",
        "\n",
        "# Example usage\n",
        "my_list = [12, 35, 1, 10, 34, 1]\n",
        "result = second_largest(my_list)\n",
        "\n",
        "if result is not None:\n",
        "    print(\"The second largest number is:\", result)\n",
        "else:\n",
        "    print(\"There is no second largest number.\")\n"
      ],
      "metadata": {
        "colab": {
          "base_uri": "https://localhost:8080/"
        },
        "id": "ZVs0_MzIhHgh",
        "outputId": "d3e6cb42-4566-4f2a-9c0d-26bd79ec9cd8"
      },
      "execution_count": 12,
      "outputs": [
        {
          "output_type": "stream",
          "name": "stdout",
          "text": [
            "The second largest number is: 34\n"
          ]
        }
      ]
    },
    {
      "cell_type": "markdown",
      "source": [
        "13) Create a code to count the occurrences of each element in a list and return a dictionary with elements as\n",
        "keys and their counts as values?"
      ],
      "metadata": {
        "id": "GD0-A0KchHtS"
      }
    },
    {
      "cell_type": "code",
      "source": [
        "# Function to count occurrences of each element in a list\n",
        "def count_occurrences(lst):\n",
        "    counts = {}\n",
        "    for item in lst:\n",
        "        if item in counts:\n",
        "            counts[item] += 1\n",
        "        else:\n",
        "            counts[item] = 1\n",
        "    return counts\n",
        "\n",
        "# Example usage\n",
        "my_list = [1, 2, 2, 3, 3, 3, 4, 5, 5]\n",
        "result = count_occurrences(my_list)\n",
        "print(\"Occurrences:\", result)\n"
      ],
      "metadata": {
        "colab": {
          "base_uri": "https://localhost:8080/"
        },
        "id": "Ix1sm0vXhICo",
        "outputId": "6611f0c0-214d-481f-9f34-7bdc08c9af65"
      },
      "execution_count": 13,
      "outputs": [
        {
          "output_type": "stream",
          "name": "stdout",
          "text": [
            "Occurrences: {1: 1, 2: 2, 3: 3, 4: 1, 5: 2}\n"
          ]
        }
      ]
    },
    {
      "cell_type": "markdown",
      "source": [
        "14) Write a code to reverse a list in-place without using any built-in reverse functions?"
      ],
      "metadata": {
        "id": "9VZgzXD_hIef"
      }
    },
    {
      "cell_type": "code",
      "source": [
        "# Function to reverse a list in-place\n",
        "def reverse_list(lst):\n",
        "    start = 0\n",
        "    end = len(lst) - 1\n",
        "\n",
        "    while start < end:\n",
        "        # Swap the elements\n",
        "        lst[start], lst[end] = lst[end], lst[start]\n",
        "        start += 1\n",
        "        end -= 1\n",
        "\n",
        "# Example usage\n",
        "my_list = [1, 2, 3, 4, 5]\n",
        "reverse_list(my_list)\n",
        "print(\"Reversed list:\", my_list)\n"
      ],
      "metadata": {
        "colab": {
          "base_uri": "https://localhost:8080/"
        },
        "id": "SAArrvadhIv1",
        "outputId": "37c34c54-8550-4047-d6ea-0a1de8ccc6cf"
      },
      "execution_count": 14,
      "outputs": [
        {
          "output_type": "stream",
          "name": "stdout",
          "text": [
            "Reversed list: [5, 4, 3, 2, 1]\n"
          ]
        }
      ]
    },
    {
      "cell_type": "markdown",
      "source": [
        "15) Implement a code to find and remove duplicates from a list while preserving the original order of\n",
        "elements?"
      ],
      "metadata": {
        "id": "lelCo7zYhJDn"
      }
    },
    {
      "cell_type": "code",
      "source": [
        "# Function to remove duplicates while preserving the original order\n",
        "def remove_duplicates(lst):\n",
        "    seen = set()\n",
        "    result = []\n",
        "    for item in lst:\n",
        "        if item not in seen:\n",
        "            result.append(item)\n",
        "            seen.add(item)\n",
        "    return result\n",
        "\n",
        "# Example usage\n",
        "my_list = [1, 2, 2, 3, 4, 4, 5, 1]\n",
        "result = remove_duplicates(my_list)\n",
        "print(\"List after removing duplicates:\", result)\n"
      ],
      "metadata": {
        "colab": {
          "base_uri": "https://localhost:8080/"
        },
        "id": "yQbFqQKLhJi0",
        "outputId": "93ca47c7-e3d2-4767-ace2-3eb0f36ae510"
      },
      "execution_count": 15,
      "outputs": [
        {
          "output_type": "stream",
          "name": "stdout",
          "text": [
            "List after removing duplicates: [1, 2, 3, 4, 5]\n"
          ]
        }
      ]
    },
    {
      "cell_type": "markdown",
      "source": [
        "16) Create a code to check if a given list is sorted (either in ascending or descending order) or not?"
      ],
      "metadata": {
        "id": "r1YA4PZqhKqV"
      }
    },
    {
      "cell_type": "code",
      "source": [
        "# Function to check if the list is sorted\n",
        "def is_sorted(lst):\n",
        "    # Check for ascending order\n",
        "    if all(lst[i] <= lst[i + 1] for i in range(len(lst) - 1)):\n",
        "        return \"The list is sorted in ascending order.\"\n",
        "\n",
        "    # Check for descending order\n",
        "    elif all(lst[i] >= lst[i + 1] for i in range(len(lst) - 1)):\n",
        "        return \"The list is sorted in descending order.\"\n",
        "\n",
        "    # If neither ascending nor descending\n",
        "    else:\n",
        "        return \"The list is not sorted.\"\n",
        "\n",
        "# Example usage\n",
        "my_list = [1, 2, 3, 4, 5]\n",
        "result = is_sorted(my_list)\n",
        "print(result)\n",
        "\n",
        "my_list = [5, 4, 3, 2, 1]\n",
        "result = is_sorted(my_list)\n",
        "print(result)\n",
        "\n",
        "my_list = [1, 3, 2, 4, 5]\n",
        "result = is_sorted(my_list)\n",
        "print(result)\n"
      ],
      "metadata": {
        "colab": {
          "base_uri": "https://localhost:8080/"
        },
        "id": "8_pzsGDJhK7p",
        "outputId": "498983da-668f-4c7c-ac2e-6a9e2cd6419b"
      },
      "execution_count": 16,
      "outputs": [
        {
          "output_type": "stream",
          "name": "stdout",
          "text": [
            "The list is sorted in ascending order.\n",
            "The list is sorted in descending order.\n",
            "The list is not sorted.\n"
          ]
        }
      ]
    },
    {
      "cell_type": "markdown",
      "source": [
        "17) Write a code to merge two sorted lists into a single sorted list?"
      ],
      "metadata": {
        "id": "Qyj_lhRrhLJk"
      }
    },
    {
      "cell_type": "code",
      "source": [
        "# Function to merge two sorted lists\n",
        "def merge_sorted_lists(list1, list2):\n",
        "    merged_list = []\n",
        "    i, j = 0, 0\n",
        "\n",
        "    # Traverse both lists and append the smaller element to merged_list\n",
        "    while i < len(list1) and j < len(list2):\n",
        "        if list1[i] < list2[j]:\n",
        "            merged_list.append(list1[i])\n",
        "            i += 1\n",
        "        else:\n",
        "            merged_list.append(list2[j])\n",
        "            j += 1\n",
        "\n",
        "    # If any elements are left in list1, append them\n",
        "    while i < len(list1):\n",
        "        merged_list.append(list1[i])\n",
        "        i += 1\n",
        "\n",
        "    # If any elements are left in list2, append them\n",
        "    while j < len(list2):\n",
        "        merged_list.append(list2[j])\n",
        "        j += 1\n",
        "\n",
        "    return merged_list\n",
        "\n",
        "# Example usage\n",
        "list1 = [1, 3, 5, 7]\n",
        "list2 = [2, 4, 6, 8]\n",
        "result = merge_sorted_lists(list1, list2)\n",
        "print(\"Merged sorted list:\", result)\n"
      ],
      "metadata": {
        "colab": {
          "base_uri": "https://localhost:8080/"
        },
        "id": "Yu6L95_hhLdp",
        "outputId": "46786eca-eb37-4434-b83c-5bd53058efbf"
      },
      "execution_count": 17,
      "outputs": [
        {
          "output_type": "stream",
          "name": "stdout",
          "text": [
            "Merged sorted list: [1, 2, 3, 4, 5, 6, 7, 8]\n"
          ]
        }
      ]
    },
    {
      "cell_type": "markdown",
      "source": [
        "18)  Implement a code to find the intersection of two given lists?"
      ],
      "metadata": {
        "id": "bialh0mfhLyc"
      }
    },
    {
      "cell_type": "code",
      "source": [
        "# Function to find the intersection of two lists\n",
        "def intersection_of_lists(list1, list2):\n",
        "    # Use set to find common elements\n",
        "    return list(set(list1) & set(list2))\n",
        "\n",
        "# Example usage\n",
        "list1 = [1, 2, 3, 4, 5]\n",
        "list2 = [3, 4, 5, 6, 7]\n",
        "result = intersection_of_lists(list1, list2)\n",
        "print(\"Intersection of the lists:\", result)\n"
      ],
      "metadata": {
        "colab": {
          "base_uri": "https://localhost:8080/"
        },
        "id": "ZcnDP24rhMI2",
        "outputId": "161bcaf6-c410-41eb-c741-96aaa2fc04ae"
      },
      "execution_count": 18,
      "outputs": [
        {
          "output_type": "stream",
          "name": "stdout",
          "text": [
            "Intersection of the lists: [3, 4, 5]\n"
          ]
        }
      ]
    },
    {
      "cell_type": "markdown",
      "source": [
        "19) Create a code to find the union of two lists without duplicates?"
      ],
      "metadata": {
        "id": "po8Yao0vhMwx"
      }
    },
    {
      "cell_type": "code",
      "source": [
        "# Function to find the union of two lists without duplicates\n",
        "def union_of_lists(list1, list2):\n",
        "    # Use set to remove duplicates and find the union\n",
        "    return list(set(list1) | set(list2))\n",
        "\n",
        "# Example usage\n",
        "list1 = [1, 2, 3, 4, 5]\n",
        "list2 = [4, 5, 6, 7, 8]\n",
        "result = union_of_lists(list1, list2)\n",
        "print(\"Union of the lists:\", result)\n"
      ],
      "metadata": {
        "colab": {
          "base_uri": "https://localhost:8080/"
        },
        "id": "JPeco1BshM_8",
        "outputId": "ab7e4038-e98b-4394-f8d3-547697b74335"
      },
      "execution_count": 19,
      "outputs": [
        {
          "output_type": "stream",
          "name": "stdout",
          "text": [
            "Union of the lists: [1, 2, 3, 4, 5, 6, 7, 8]\n"
          ]
        }
      ]
    },
    {
      "cell_type": "markdown",
      "source": [
        "20)  Write a code to shuffle a given list randomly without using any built-in shuffle functions?"
      ],
      "metadata": {
        "id": "T5GkFnCohNQ7"
      }
    },
    {
      "cell_type": "code",
      "source": [
        "import random\n",
        "\n",
        "# Function to shuffle a list randomly\n",
        "def shuffle_list(lst):\n",
        "    # Traverse the list in reverse order to ensure randomness\n",
        "    for i in range(len(lst) - 1, 0, -1):\n",
        "        j = random.randint(0, i)  # Generate a random index\n",
        "        lst[i], lst[j] = lst[j], lst[i]  # Swap elements\n",
        "\n",
        "# Example usage\n",
        "my_list = [1, 2, 3, 4, 5]\n",
        "shuffle_list(my_list)\n",
        "print(\"Shuffled list:\", my_list)\n",
        "\n"
      ],
      "metadata": {
        "colab": {
          "base_uri": "https://localhost:8080/"
        },
        "id": "1KgB86KvhNkB",
        "outputId": "5287bbc7-0379-4c13-f9ab-29ae412727ae"
      },
      "execution_count": 20,
      "outputs": [
        {
          "output_type": "stream",
          "name": "stdout",
          "text": [
            "Shuffled list: [5, 2, 1, 4, 3]\n"
          ]
        }
      ]
    },
    {
      "cell_type": "markdown",
      "source": [
        "21) Write a code that takes two tuples as input and returns a new tuple containing elements that are\n",
        "common to both input tuples?"
      ],
      "metadata": {
        "id": "j7WBuORGjH1E"
      }
    },
    {
      "cell_type": "code",
      "source": [
        "# Function to find the common elements in two tuples\n",
        "def common_elements(tuple1, tuple2):\n",
        "    # Use set intersection to find common elements\n",
        "    return tuple(set(tuple1) & set(tuple2))\n",
        "\n",
        "# Example usage\n",
        "tuple1 = (1, 2, 3, 4, 5)\n",
        "tuple2 = (3, 4, 5, 6, 7)\n",
        "result = common_elements(tuple1, tuple2)\n",
        "print(\"Common elements:\", result)\n"
      ],
      "metadata": {
        "colab": {
          "base_uri": "https://localhost:8080/"
        },
        "id": "rg6eDh3ujIGP",
        "outputId": "e5e6ed12-6fb5-4c0f-d924-7e8318c1ae68"
      },
      "execution_count": 21,
      "outputs": [
        {
          "output_type": "stream",
          "name": "stdout",
          "text": [
            "Common elements: (3, 4, 5)\n"
          ]
        }
      ]
    },
    {
      "cell_type": "markdown",
      "source": [
        "22) Create a code that prompts the user to enter two sets of integers separated by commas. Then, print the\n",
        "intersection of these two sets?"
      ],
      "metadata": {
        "id": "RtPbS9h2jIVc"
      }
    },
    {
      "cell_type": "code",
      "source": [
        "# Function to get the intersection of two sets\n",
        "def intersection_of_sets(set1, set2):\n",
        "    return set1 & set2\n",
        "\n",
        "# Example usage\n",
        "set1_input = input(\"Enter the first set of integers (separated by commas): \")\n",
        "set2_input = input(\"Enter the second set of integers (separated by commas): \")\n",
        "\n",
        "# Convert the input strings to sets of integers\n",
        "set1 = set(map(int, set1_input.split(',')))\n",
        "set2 = set(map(int, set2_input.split(',')))\n",
        "\n",
        "# Find and print the intersection of the two sets\n",
        "result = intersection_of_sets(set1, set2)\n",
        "print(\"Intersection of the two sets:\", result)\n"
      ],
      "metadata": {
        "colab": {
          "base_uri": "https://localhost:8080/"
        },
        "id": "IbyLwKJljIoi",
        "outputId": "09abbdeb-886d-462f-c082-5e00d56eeadb"
      },
      "execution_count": 22,
      "outputs": [
        {
          "output_type": "stream",
          "name": "stdout",
          "text": [
            "Enter the first set of integers (separated by commas): 1234567\n",
            "Enter the second set of integers (separated by commas): 7654321\n",
            "Intersection of the two sets: set()\n"
          ]
        }
      ]
    },
    {
      "cell_type": "markdown",
      "source": [
        "23) Write a code to concatenate two tuples. The function should take two tuples as input and return a new\n",
        "tuple containing elements from both input tuples?"
      ],
      "metadata": {
        "id": "iokqWfhdjJDd"
      }
    },
    {
      "cell_type": "code",
      "source": [
        "# Function to concatenate two tuples\n",
        "def concatenate_tuples(tuple1, tuple2):\n",
        "    return tuple1 + tuple2\n",
        "\n",
        "# Example usage\n",
        "tuple1 = (1, 2, 3)\n",
        "tuple2 = (4, 5, 6)\n",
        "result = concatenate_tuples(tuple1, tuple2)\n",
        "print(\"Concatenated tuple:\", result)\n"
      ],
      "metadata": {
        "colab": {
          "base_uri": "https://localhost:8080/"
        },
        "id": "mbFCX5TujJVc",
        "outputId": "ac100f74-96fe-48ea-8adc-07c575301072"
      },
      "execution_count": 23,
      "outputs": [
        {
          "output_type": "stream",
          "name": "stdout",
          "text": [
            "Concatenated tuple: (1, 2, 3, 4, 5, 6)\n"
          ]
        }
      ]
    },
    {
      "cell_type": "markdown",
      "source": [
        "24) Develop a code that prompts the user to input two sets of strings. Then, print the elements that are\n",
        "present in the first set but not in the second set?"
      ],
      "metadata": {
        "id": "2eixo-DAjJiD"
      }
    },
    {
      "cell_type": "code",
      "source": [
        "# Function to find the elements in the first set but not in the second set\n",
        "def difference_of_sets(set1, set2):\n",
        "    return set1 - set2\n",
        "\n",
        "# Example usage\n",
        "set1_input = input(\"Enter the first set of strings (separated by commas): \")\n",
        "set2_input = input(\"Enter the second set of strings (separated by commas): \")\n",
        "\n",
        "# Convert the input strings to sets of strings\n",
        "set1 = set(set1_input.split(','))\n",
        "set2 = set(set2_input.split(','))\n",
        "\n",
        "# Find and print the elements present in the first set but not in the second set\n",
        "result = difference_of_sets(set1, set2)\n",
        "print(\"Elements in the first set but not in the second set:\", result)\n"
      ],
      "metadata": {
        "colab": {
          "base_uri": "https://localhost:8080/"
        },
        "id": "BHKiLM0WjJxk",
        "outputId": "f390da17-3603-438e-d0fe-5b57dd5cb208"
      },
      "execution_count": 24,
      "outputs": [
        {
          "output_type": "stream",
          "name": "stdout",
          "text": [
            "Enter the first set of strings (separated by commas): 1234\n",
            "Enter the second set of strings (separated by commas): 5678\n",
            "Elements in the first set but not in the second set: {'1234'}\n"
          ]
        }
      ]
    },
    {
      "cell_type": "markdown",
      "source": [
        "25) Create a code that takes a tuple and two integers as input. The function should return a new tuple\n",
        "containing elements from the original tuple within the specified range of indices?"
      ],
      "metadata": {
        "id": "Zw9UYxmEjKLQ"
      }
    },
    {
      "cell_type": "code",
      "source": [
        "# Function to get a tuple with elements within the specified range of indices\n",
        "def slice_tuple(original_tuple, start_index, end_index):\n",
        "    # Return the sliced tuple\n",
        "    return original_tuple[start_index:end_index]\n",
        "\n",
        "# Example usage\n",
        "original_tuple = tuple(map(int, input(\"Enter the tuple of integers (separated by commas): \").split(',')))\n",
        "start_index = int(input(\"Enter the start index: \"))\n",
        "end_index = int(input(\"Enter the end index: \"))\n",
        "\n",
        "# Get the sliced tuple\n",
        "result = slice_tuple(original_tuple, start_index, end_index)\n",
        "print(\"Sliced tuple:\", result)\n"
      ],
      "metadata": {
        "colab": {
          "base_uri": "https://localhost:8080/"
        },
        "id": "8Divl2vrjKbh",
        "outputId": "f70aebd8-2137-4810-f84a-4a8e0d525fe4"
      },
      "execution_count": 25,
      "outputs": [
        {
          "output_type": "stream",
          "name": "stdout",
          "text": [
            "Enter the tuple of integers (separated by commas): 1234\n",
            "Enter the start index: 2\n",
            "Enter the end index: 4\n",
            "Sliced tuple: ()\n"
          ]
        }
      ]
    },
    {
      "cell_type": "markdown",
      "source": [
        "26) Write a code that prompts the user to input two sets of characters. Then, print the union of these two sets?"
      ],
      "metadata": {
        "id": "A4zrIWXXjLOu"
      }
    },
    {
      "cell_type": "code",
      "source": [
        "# Function to find the union of two sets\n",
        "def union_of_sets(set1, set2):\n",
        "    return set1 | set2\n",
        "\n",
        "# Example usage\n",
        "set1_input = input(\"Enter the first set of characters (separated by commas): \")\n",
        "set2_input = input(\"Enter the second set of characters (separated by commas): \")\n",
        "\n",
        "# Convert the input strings to sets of characters\n",
        "set1 = set(set1_input.split(','))\n",
        "set2 = set(set2_input.split(','))\n",
        "\n",
        "# Find and print the union of the two sets\n",
        "result = union_of_sets(set1, set2)\n",
        "print(\"Union of the two sets:\", result)\n"
      ],
      "metadata": {
        "colab": {
          "base_uri": "https://localhost:8080/"
        },
        "id": "pHGxJoBgjLjl",
        "outputId": "b2e48b48-78b2-4876-c076-ecc1dd46dfbd"
      },
      "execution_count": 26,
      "outputs": [
        {
          "output_type": "stream",
          "name": "stdout",
          "text": [
            "Enter the first set of characters (separated by commas): 1234\n",
            "Enter the second set of characters (separated by commas): 5678\n",
            "Union of the two sets: {'1234', '5678'}\n"
          ]
        }
      ]
    },
    {
      "cell_type": "markdown",
      "source": [
        "27) Develop a code that takes a tuple of integers as input. The function should return the maximum and\n",
        "minimum values from the tuple using tuple unpacking?"
      ],
      "metadata": {
        "id": "HRxppGXSjL0i"
      }
    },
    {
      "cell_type": "code",
      "source": [
        "# Function to find the maximum and minimum values from a tuple using tuple unpacking\n",
        "def find_max_min(tup):\n",
        "    # Using tuple unpacking to get max and min values\n",
        "    return (max(tup), min(tup))\n",
        "\n",
        "# Example usage\n",
        "tuple_input = tuple(map(int, input(\"Enter a tuple of integers (separated by commas): \").split(',')))\n",
        "\n",
        "# Get the max and min values from the tuple\n",
        "max_value, min_value = find_max_min(tuple_input)\n",
        "print(f\"Maximum value: {max_value}\")\n",
        "print(f\"Minimum value: {min_value}\")\n"
      ],
      "metadata": {
        "colab": {
          "base_uri": "https://localhost:8080/"
        },
        "id": "X4PRFmDijMR6",
        "outputId": "f97c0d9d-f57d-423b-a7c3-d45886c1ef22"
      },
      "execution_count": 27,
      "outputs": [
        {
          "output_type": "stream",
          "name": "stdout",
          "text": [
            "Enter a tuple of integers (separated by commas): 1234\n",
            "Maximum value: 1234\n",
            "Minimum value: 1234\n"
          ]
        }
      ]
    },
    {
      "cell_type": "markdown",
      "source": [
        "28) Create a code that defines two sets of integers. Then, print the union, intersection, and difference of these\n",
        "two sets?"
      ],
      "metadata": {
        "id": "VGhIMO1rjMoR"
      }
    },
    {
      "cell_type": "code",
      "source": [
        "# Function to print union, intersection, and difference of two sets\n",
        "def set_operations(set1, set2):\n",
        "    # Union of the two sets\n",
        "    union_result = set1 | set2\n",
        "    # Intersection of the two sets\n",
        "    intersection_result = set1 & set2\n",
        "    # Difference of the two sets (elements in set1 but not in set2)\n",
        "    difference_result = set1 - set2\n",
        "\n",
        "    return union_result, intersection_result, difference_result\n",
        "\n",
        "# Example usage\n",
        "set1 = {1, 2, 3, 4, 5}\n",
        "set2 = {4, 5, 6, 7, 8}\n",
        "\n",
        "# Get the results of union, intersection, and difference\n",
        "union_result, intersection_result, difference_result = set_operations(set1, set2)\n",
        "\n",
        "# Print the results\n",
        "print(\"Union of the sets:\", union_result)\n",
        "print(\"Intersection of the sets:\", intersection_result)\n",
        "print(\"Difference of the sets (set1 - set2):\", difference_result)\n"
      ],
      "metadata": {
        "colab": {
          "base_uri": "https://localhost:8080/"
        },
        "id": "3D7Sg80OjM4f",
        "outputId": "1b2d24cf-dd04-4f1e-d134-657a103d2683"
      },
      "execution_count": 28,
      "outputs": [
        {
          "output_type": "stream",
          "name": "stdout",
          "text": [
            "Union of the sets: {1, 2, 3, 4, 5, 6, 7, 8}\n",
            "Intersection of the sets: {4, 5}\n",
            "Difference of the sets (set1 - set2): {1, 2, 3}\n"
          ]
        }
      ]
    },
    {
      "cell_type": "markdown",
      "source": [
        "29) Write a code that takes a tuple and an element as input. The function should return the count of\n",
        "occurrences of the given element in the tuple?\n",
        "\n"
      ],
      "metadata": {
        "id": "1l5fdRWWjNS4"
      }
    },
    {
      "cell_type": "code",
      "source": [
        "# Function to count the occurrences of an element in a tuple\n",
        "def count_occurrences(tup, element):\n",
        "    return tup.count(element)\n",
        "\n",
        "# Example usage\n",
        "tuple_input = tuple(map(int, input(\"Enter a tuple of integers (separated by commas): \").split(',')))\n",
        "element_input = int(input(\"Enter the element to count its occurrences: \"))\n",
        "\n",
        "# Get the count of occurrences\n",
        "occurrences = count_occurrences(tuple_input, element_input)\n",
        "print(f\"The element {element_input} occurs {occurrences} times in the tuple.\")\n"
      ],
      "metadata": {
        "colab": {
          "base_uri": "https://localhost:8080/"
        },
        "id": "Zw7kjttEjNm-",
        "outputId": "280fbb89-c582-416a-a9a7-7bd4d42dbffe"
      },
      "execution_count": 29,
      "outputs": [
        {
          "output_type": "stream",
          "name": "stdout",
          "text": [
            "Enter a tuple of integers (separated by commas): 1234\n",
            "Enter the element to count its occurrences: 2\n",
            "The element 2 occurs 0 times in the tuple.\n"
          ]
        }
      ]
    },
    {
      "cell_type": "markdown",
      "source": [
        "30) Develop a code that prompts the user to input two sets of strings. Then, print the symmetric difference of\n",
        "these two sets?"
      ],
      "metadata": {
        "id": "KYx7-fSsjN1u"
      }
    },
    {
      "cell_type": "code",
      "source": [
        "# Function to find the symmetric difference of two sets\n",
        "def symmetric_difference(set1, set2):\n",
        "    return set1 ^ set2\n",
        "\n",
        "# Example usage\n",
        "set1_input = input(\"Enter the first set of strings (separated by commas): \")\n",
        "set2_input = input(\"Enter the second set of strings (separated by commas): \")\n",
        "\n",
        "# Convert the input strings to sets of strings\n",
        "set1 = set(set1_input.split(','))\n",
        "set2 = set(set2_input.split(','))\n",
        "\n",
        "# Find and print the symmetric difference of the two sets\n",
        "result = symmetric_difference(set1, set2)\n",
        "print(\"Symmetric difference of the two sets:\", result)\n"
      ],
      "metadata": {
        "colab": {
          "base_uri": "https://localhost:8080/"
        },
        "id": "j3u1dF6WjOOy",
        "outputId": "d51663a6-50b0-40ca-b7f5-77fd1256c4ae"
      },
      "execution_count": 30,
      "outputs": [
        {
          "output_type": "stream",
          "name": "stdout",
          "text": [
            "Enter the first set of strings (separated by commas): manish\n",
            "Enter the second set of strings (separated by commas): kancharla\n",
            "Symmetric difference of the two sets: {'kancharla', 'manish'}\n"
          ]
        }
      ]
    },
    {
      "cell_type": "markdown",
      "source": [
        "31) Write a code that takes a list of words as input and returns a dictionary where the keys are unique words\n",
        "and the values are the frequencies of those words in the input list?"
      ],
      "metadata": {
        "id": "M1PbQrYwjOcA"
      }
    },
    {
      "cell_type": "code",
      "source": [
        "# Function to count the frequency of each word in the list\n",
        "def word_frequencies(word_list):\n",
        "    word_count = {}\n",
        "    for word in word_list:\n",
        "        if word in word_count:\n",
        "            word_count[word] += 1\n",
        "        else:\n",
        "            word_count[word] = 1\n",
        "    return word_count\n",
        "\n",
        "# Example usage\n",
        "input_words = input(\"Enter a list of words (separated by spaces): \").split()\n",
        "\n",
        "# Get the word frequencies\n",
        "result = word_frequencies(input_words)\n",
        "\n",
        "# Print the result\n",
        "print(\"Word frequencies:\", result)\n"
      ],
      "metadata": {
        "colab": {
          "base_uri": "https://localhost:8080/"
        },
        "id": "8l3P07sCjO7s",
        "outputId": "8033872c-d4df-486e-cb54-a7ad116f6948"
      },
      "execution_count": 31,
      "outputs": [
        {
          "output_type": "stream",
          "name": "stdout",
          "text": [
            "Enter a list of words (separated by spaces): manish kancharla\n",
            "Word frequencies: {'manish': 1, 'kancharla': 1}\n"
          ]
        }
      ]
    },
    {
      "cell_type": "markdown",
      "source": [
        "32) Write a code that takes two dictionaries as input and merges them into a single dictionary. If there are\n",
        "common keys, the values should be added together?"
      ],
      "metadata": {
        "id": "hB6_avobjPRq"
      }
    },
    {
      "cell_type": "code",
      "source": [
        "# Function to merge two dictionaries and add values for common keys\n",
        "def merge_and_add_dicts(dict1, dict2):\n",
        "    # Create a new dictionary to store the merged result\n",
        "    merged_dict = dict1.copy()\n",
        "\n",
        "    # Iterate through the second dictionary\n",
        "    for key, value in dict2.items():\n",
        "        if key in merged_dict:\n",
        "            merged_dict[key] += value  # Add the values if key is common\n",
        "        else:\n",
        "            merged_dict[key] = value  # Add the key-value pair if key is not common\n",
        "\n",
        "    return merged_dict\n",
        "\n",
        "# Example usage\n",
        "dict1_input = input(\"Enter the first dictionary (key:value pairs separated by commas, key-value pairs separated by colons): \")\n",
        "dict2_input = input(\"Enter the second dictionary (key:value pairs separated by commas, key-value pairs separated by colons): \")\n",
        "\n",
        "# Convert input strings to dictionaries\n",
        "dict1 = dict(item.split(\":\") for item in dict1_input.split(\",\"))\n",
        "dict2 = dict(item.split(\":\") for item in dict2_input.split(\",\"))\n",
        "\n",
        "# Convert values to integers\n",
        "dict1 = {k: int(v) for k, v in dict1.items()}\n",
        "dict2 = {k: int(v) for k, v in dict2.items()}\n",
        "\n",
        "# Merge the dictionaries\n",
        "result = merge_and_add_dicts(dict1, dict2)\n",
        "\n",
        "# Print the merged dictionary\n",
        "print(\"Merged dictionary:\", result)\n"
      ],
      "metadata": {
        "colab": {
          "base_uri": "https://localhost:8080/"
        },
        "id": "SSAXkdWtjPjt",
        "outputId": "710754ed-d67a-44f6-a610-a57dd85d58ee"
      },
      "execution_count": 36,
      "outputs": [
        {
          "output_type": "stream",
          "name": "stdout",
          "text": [
            "Enter the first dictionary (key:value pairs separated by commas, key-value pairs separated by colons): manish:22\n",
            "Enter the second dictionary (key:value pairs separated by commas, key-value pairs separated by colons): kancharla:18\n",
            "Merged dictionary: {'manish': 22, 'kancharla': 18}\n"
          ]
        }
      ]
    },
    {
      "cell_type": "markdown",
      "source": [
        "33) Write a code to access a value in a nested dictionary. The function should take the dictionary and a list of\n",
        "keys as input, and return the corresponding value. If any of the keys do not exist in the dictionary, the\n",
        "function should return None?"
      ],
      "metadata": {
        "id": "SXbRacxzjP4o"
      }
    },
    {
      "cell_type": "code",
      "source": [
        "# Function to access a value in a nested dictionary using a list of keys\n",
        "def access_nested_value(nested_dict, keys):\n",
        "    # Iterate through the list of keys\n",
        "    for key in keys:\n",
        "        # If the key exists, move to the next level of the dictionary\n",
        "        if isinstance(nested_dict, dict) and key in nested_dict:\n",
        "            nested_dict = nested_dict[key]\n",
        "        else:\n",
        "            # If the key does not exist, return None\n",
        "            return None\n",
        "    return nested_dict\n",
        "\n",
        "# Example usage\n",
        "nested_dict = {\n",
        "    'a': {\n",
        "        'b': {\n",
        "            'c': 10\n",
        "        },\n",
        "        'd': 20\n",
        "    },\n",
        "    'e': 30\n",
        "}\n",
        "\n",
        "keys = input(\"Enter a list of keys separated by commas (e.g., a,b,c): \").split(',')\n",
        "\n",
        "# Get the corresponding value from the nested dictionary\n",
        "result = access_nested_value(nested_dict, keys)\n",
        "\n",
        "# Print the result\n",
        "print(\"The corresponding value is:\", result)\n"
      ],
      "metadata": {
        "colab": {
          "base_uri": "https://localhost:8080/"
        },
        "id": "G0dzoyemjQXf",
        "outputId": "bc3c0b5b-79a5-4ad3-a70b-a429b1f1f9df"
      },
      "execution_count": 37,
      "outputs": [
        {
          "output_type": "stream",
          "name": "stdout",
          "text": [
            "Enter a list of keys separated by commas (e.g., a,b,c): m,a,n,i,s,h\n",
            "The corresponding value is: None\n"
          ]
        }
      ]
    },
    {
      "cell_type": "markdown",
      "source": [
        "34) Write a code that takes a dictionary as input and returns a sorted version of it based on the values. You\n",
        "can choose whether to sort in ascending or descending order?"
      ],
      "metadata": {
        "id": "F-MYV-fEjQo0"
      }
    },
    {
      "cell_type": "code",
      "source": [
        "# Function to sort a dictionary based on its values\n",
        "def sort_dict_by_value(input_dict, reverse=False):\n",
        "    # Sort the dictionary by value and return a new dictionary\n",
        "    sorted_dict = dict(sorted(input_dict.items(), key=lambda item: item[1], reverse=reverse))\n",
        "    return sorted_dict\n",
        "\n",
        "# Example usage\n",
        "input_dict = {\n",
        "    'a': 5,\n",
        "    'b': 3,\n",
        "    'c': 8,\n",
        "    'd': 1\n",
        "}\n",
        "\n",
        "# Ask the user whether to sort in ascending or descending order\n",
        "order = input(\"Enter 'asc' for ascending or 'desc' for descending order: \").strip().lower()\n",
        "\n",
        "# Convert the order to a boolean (True for descending, False for ascending)\n",
        "reverse_order = True if order == 'desc' else False\n",
        "\n",
        "# Get the sorted dictionary\n",
        "sorted_dict = sort_dict_by_value(input_dict, reverse=reverse_order)\n",
        "\n",
        "# Print the sorted dictionary\n",
        "print(\"Sorted dictionary:\", sorted_dict)\n"
      ],
      "metadata": {
        "colab": {
          "base_uri": "https://localhost:8080/"
        },
        "id": "7DshTTs2jQ24",
        "outputId": "0c243d1a-2219-4e97-9101-3a58bb9de677"
      },
      "execution_count": 38,
      "outputs": [
        {
          "output_type": "stream",
          "name": "stdout",
          "text": [
            "Enter 'asc' for ascending or 'desc' for descending order: 1234567\n",
            "Sorted dictionary: {'d': 1, 'b': 3, 'a': 5, 'c': 8}\n"
          ]
        }
      ]
    },
    {
      "cell_type": "markdown",
      "source": [
        "35) Write a code that inverts a dictionary, swapping keys and values. Ensure that the inverted dictionary\n",
        "correctly handles cases where multiple keys have the same value by storing the keys as a list in the\n",
        "inverted dictionary?"
      ],
      "metadata": {
        "id": "EVzoEgeUjRHO"
      }
    },
    {
      "cell_type": "code",
      "source": [
        "# Function to invert a dictionary, handling multiple keys with the same value\n",
        "def invert_dict(input_dict):\n",
        "    inverted_dict = {}\n",
        "\n",
        "    for key, value in input_dict.items():\n",
        "        # If the value is already a key in the inverted dictionary, append the current key to the list\n",
        "        if value in inverted_dict:\n",
        "            inverted_dict[value].append(key)\n",
        "        else:\n",
        "            inverted_dict[value] = [key]  # Otherwise, create a new list with the current key\n",
        "\n",
        "    return inverted_dict\n",
        "\n",
        "# Example usage\n",
        "input_dict = {\n",
        "    'a': 1,\n",
        "    'b': 2,\n",
        "    'c': 1,\n",
        "    'd': 3,\n",
        "    'e': 2\n",
        "}\n",
        "\n",
        "# Get the inverted dictionary\n",
        "inverted_dict = invert_dict(input_dict)\n",
        "\n",
        "# Print the inverted dictionary\n",
        "print(\"Inverted dictionary:\", inverted_dict)\n"
      ],
      "metadata": {
        "colab": {
          "base_uri": "https://localhost:8080/"
        },
        "id": "tXxNyz4UjRld",
        "outputId": "fa6cfee1-49e2-4a15-fe78-03d9d778af92"
      },
      "execution_count": 39,
      "outputs": [
        {
          "output_type": "stream",
          "name": "stdout",
          "text": [
            "Inverted dictionary: {1: ['a', 'c'], 2: ['b', 'e'], 3: ['d']}\n"
          ]
        }
      ]
    },
    {
      "cell_type": "markdown",
      "source": [],
      "metadata": {
        "id": "Uww0Lr9yjVJG"
      }
    },
    {
      "cell_type": "code",
      "source": [],
      "metadata": {
        "id": "oSLIZ1M_jVcG"
      },
      "execution_count": null,
      "outputs": []
    }
  ]
}