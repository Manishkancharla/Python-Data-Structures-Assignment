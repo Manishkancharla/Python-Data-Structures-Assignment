{
 "cells": [
  {
   "cell_type": "markdown",
   "id": "049dc137-3360-4803-ac78-8a957f772312",
   "metadata": {},
   "source": [
    "1) String Slicing \n"
   ]
  },
  {
   "cell_type": "raw",
   "id": "c29d7ed7-d6b3-4a24-b266-9f1a331dcbb4",
   "metadata": {},
   "source": [
    "The string slicing allows you to extract a portion of a string by specifying a start and end index. It follows the format string[start:end], where start is the index where slicing begins (inclusive) and end is the index where it ends (exclusive).\n"
   ]
  },
  {
   "cell_type": "code",
   "execution_count": 3,
   "id": "6e291b0f-4478-4cd3-b0d5-0c4c107df178",
   "metadata": {},
   "outputs": [
    {
     "data": {
      "text/plain": [
       "'South Korea'"
      ]
     },
     "execution_count": 3,
     "metadata": {},
     "output_type": "execute_result"
    }
   ],
   "source": [
    "a = \"South Korea is a beautiful country\"\n",
    "a[0:11]"
   ]
  },
  {
   "cell_type": "code",
   "execution_count": 7,
   "id": "a45558b6-f882-41d0-92d5-e20b5115c267",
   "metadata": {},
   "outputs": [
    {
     "data": {
      "text/plain": [
       "'SuhKrai  euiu o'"
      ]
     },
     "execution_count": 7,
     "metadata": {},
     "output_type": "execute_result"
    }
   ],
   "source": [
    "a[0:30:2] #In this default step is 2"
   ]
  },
  {
   "cell_type": "code",
   "execution_count": 11,
   "id": "9d6b1d46-8a20-4e83-9ef5-a089304891e1",
   "metadata": {},
   "outputs": [
    {
     "data": {
      "text/plain": [
       "'rea is a beautiful country'"
      ]
     },
     "execution_count": 11,
     "metadata": {},
     "output_type": "execute_result"
    }
   ],
   "source": [
    "a[-26:] #If you want only last characters "
   ]
  },
  {
   "cell_type": "code",
   "execution_count": 14,
   "id": "8bebc736-68e0-4335-8c20-f9fad19746e1",
   "metadata": {},
   "outputs": [
    {
     "data": {
      "text/plain": [
       "'South Korea is a beautiful '"
      ]
     },
     "execution_count": 14,
     "metadata": {},
     "output_type": "execute_result"
    }
   ],
   "source": [
    "a[:-7] #It prints without considering lats 7 characters"
   ]
  },
  {
   "cell_type": "markdown",
   "id": "4d3c6868-1305-43ac-a769-b02bf868397a",
   "metadata": {},
   "source": [
    "2) Lists Key Features"
   ]
  },
  {
   "cell_type": "raw",
   "id": "0090cb43-fb25-4638-9eca-6ecd00fd9c37",
   "metadata": {},
   "source": [
    "The List is a ordered collection of items. It stores any data type is known as heterogenous."
   ]
  },
  {
   "cell_type": "code",
   "execution_count": 16,
   "id": "19c0e066-a44a-4434-a92a-6c459f54780c",
   "metadata": {},
   "outputs": [
    {
     "name": "stdout",
     "output_type": "stream",
     "text": [
      "['I like to', 'visit south korea', 'because nature of the south korea is very beautiful']\n"
     ]
    }
   ],
   "source": [
    "a = []\n",
    "a.append(\"I like to\") #Similarly append is used for combining the characters\n",
    "a.append(\"visit south korea\")\n",
    "a.append(\"because nature of the south korea is very beautiful\")\n",
    "print(a)"
   ]
  },
  {
   "cell_type": "code",
   "execution_count": 17,
   "id": "9b257ceb-8594-4b61-b1d2-4a20c1c2b32f",
   "metadata": {},
   "outputs": [
    {
     "name": "stdout",
     "output_type": "stream",
     "text": [
      "['I like to', 'visit south korea', 'because nature of the south korea is very beautiful', 'and calm']\n"
     ]
    }
   ],
   "source": [
    "a.insert(3, \"and calm\") #Insert is used for including in list \n",
    "print(a)"
   ]
  },
  {
   "cell_type": "code",
   "execution_count": 19,
   "id": "4a3ee95c-a743-46f6-b229-0198dea11565",
   "metadata": {},
   "outputs": [
    {
     "name": "stdout",
     "output_type": "stream",
     "text": [
      "['South Korea', 'Japan', 'Tamil Nadu', 'Andhra Pradesh']\n"
     ]
    }
   ],
   "source": [
    "a = [\"South Korea\", \"Japan\"]\n",
    "b = [\"Tamil Nadu\", \"Andhra Pradesh\"]\n",
    "a.extend(b) #It is used append elements from another list\n",
    "print(a)"
   ]
  },
  {
   "cell_type": "code",
   "execution_count": 21,
   "id": "e8a43a31-c5e8-48c6-a755-a1617928d301",
   "metadata": {},
   "outputs": [
    {
     "data": {
      "text/plain": [
       "['South Korea', 'Japan', 'Tamil Nadu', 'Andhra Pradesh']"
      ]
     },
     "execution_count": 21,
     "metadata": {},
     "output_type": "execute_result"
    }
   ],
   "source": [
    "a = [\"South Korea\", \"Japan\"]\n",
    "b = [\"Tamil Nadu\", \"Andhra Pradesh\"]\n",
    "a+b #It is a concatenate in easy words is known as addition"
   ]
  },
  {
   "cell_type": "markdown",
   "id": "ae7e4f79-a0d2-4769-b824-0c310c9ce73e",
   "metadata": {},
   "source": [
    "3) Access, Modify and Delete elements in a list"
   ]
  },
  {
   "cell_type": "code",
   "execution_count": 10,
   "id": "f8528c32-f09e-4385-bec1-15ae26d1d3a2",
   "metadata": {},
   "outputs": [
    {
     "name": "stdout",
     "output_type": "stream",
     "text": [
      "South Korea\n",
      "My Demon\n",
      "Sweet Home\n",
      "Pinocchio\n",
      "18\n",
      "6\n",
      "2\n"
     ]
    }
   ],
   "source": [
    "#Access\n",
    "a = [\"South Korea\", \"My Demon\", \"Sweet Home\", \"Pinocchio\", 18, 6, 2]\n",
    "for i in a:\n",
    "    print(i)"
   ]
  },
  {
   "cell_type": "code",
   "execution_count": 9,
   "id": "ccf4b7d9-f946-4762-b0e3-124585e9eeb4",
   "metadata": {},
   "outputs": [
    {
     "name": "stdout",
     "output_type": "stream",
     "text": [
      "3\n",
      "4\n",
      "5\n",
      "6\n",
      "7\n"
     ]
    }
   ],
   "source": [
    "#Modify\n",
    "a = [1,2,3,4,5]\n",
    "for x in a:\n",
    "    x += 2\n",
    "    print(x)"
   ]
  },
  {
   "cell_type": "code",
   "execution_count": 11,
   "id": "83023bfb-e247-4000-90ec-55ba39142bc9",
   "metadata": {},
   "outputs": [
    {
     "ename": "NameError",
     "evalue": "name 'a' is not defined",
     "output_type": "error",
     "traceback": [
      "\u001b[0;31m---------------------------------------------------------------------------\u001b[0m",
      "\u001b[0;31mNameError\u001b[0m                                 Traceback (most recent call last)",
      "Cell \u001b[0;32mIn[11], line 4\u001b[0m\n\u001b[1;32m      2\u001b[0m a \u001b[38;5;241m=\u001b[39m [\u001b[38;5;124m\"\u001b[39m\u001b[38;5;124mSouth Korea\u001b[39m\u001b[38;5;124m\"\u001b[39m, \u001b[38;5;124m\"\u001b[39m\u001b[38;5;124mMy Demon\u001b[39m\u001b[38;5;124m\"\u001b[39m, \u001b[38;5;124m\"\u001b[39m\u001b[38;5;124mSweet Home\u001b[39m\u001b[38;5;124m\"\u001b[39m, \u001b[38;5;124m\"\u001b[39m\u001b[38;5;124mPinocchio\u001b[39m\u001b[38;5;124m\"\u001b[39m, \u001b[38;5;241m18\u001b[39m, \u001b[38;5;241m6\u001b[39m, \u001b[38;5;241m2\u001b[39m]\n\u001b[1;32m      3\u001b[0m \u001b[38;5;28;01mdel\u001b[39;00m a\n\u001b[0;32m----> 4\u001b[0m \u001b[38;5;28mprint\u001b[39m(\u001b[43ma\u001b[49m)\n",
      "\u001b[0;31mNameError\u001b[0m: name 'a' is not defined"
     ]
    }
   ],
   "source": [
    "#Delete\n",
    "a = [\"South Korea\", \"My Demon\", \"Sweet Home\", \"Pinocchio\", 18, 6, 2]\n",
    "del a\n",
    "print(a)"
   ]
  },
  {
   "cell_type": "markdown",
   "id": "90a0dac9-96c7-4fdd-9557-71f629a9f2d7",
   "metadata": {},
   "source": [
    "4) Lists VS Tuples"
   ]
  },
  {
   "cell_type": "raw",
   "id": "39b089c3-7db8-43cb-9483-c9678e722292",
   "metadata": {},
   "source": [
    "Lists :-\n",
    "____________________________________________________________________________________________________________________________________________\n",
    "\n",
    "-> You can use Python lists to store data of multiple types simultaneously.\n",
    "-> Lists help preserve data sequences and further process those sequences in other ways. \n",
    "-> Lists are dynamic.\n",
    "-> Lists are mutable.\n",
    "-> Lists are ordered.\n",
    "-> An index is used to traverse a list.\n"
   ]
  },
  {
   "cell_type": "code",
   "execution_count": 13,
   "id": "699a6cc7-7492-4484-931c-d0401ce1eaef",
   "metadata": {},
   "outputs": [
    {
     "name": "stdout",
     "output_type": "stream",
     "text": [
      "Original List [1, 2, 3, 4, 5, 6]\n",
      "Random List [18, 2, 3, 4, 5, 6]\n"
     ]
    }
   ],
   "source": [
    "a = [1, 2, 3, 4, 5, 6]\n",
    "print(\"Original List\", a)\n",
    "a[0] = 18\n",
    "print(\"Random List\", a)\n"
   ]
  },
  {
   "cell_type": "raw",
   "id": "d797fcc7-2225-4f73-8203-a323642e2361",
   "metadata": {},
   "source": [
    "Tuples :-\n",
    "___________________________________________________________________________________________________________________________________________\n",
    "\n",
    "-> Tuples are used to store heterogeneous and homogeneous data.\n",
    "-> Tuples are immutable in nature.\n",
    "-> Tuples are ordered\n",
    "-> An index is used to traverse a tuple.\n",
    "-> Tuples are similar to lists. It also preserves the data sequence."
   ]
  },
  {
   "cell_type": "code",
   "execution_count": 15,
   "id": "b362184f-5d8a-4dbc-9de2-ce0b38c1a616",
   "metadata": {},
   "outputs": [
    {
     "name": "stdout",
     "output_type": "stream",
     "text": [
      "Original List (1, 2, 3, 4, 5, 6)\n"
     ]
    }
   ],
   "source": [
    "a = (1, 2, 3, 4, 5, 6)\n",
    "print(\"Original List\", a)\n"
   ]
  },
  {
   "cell_type": "code",
   "execution_count": 16,
   "id": "19091f8c-6ae1-40c1-bfec-484ab425e2b1",
   "metadata": {},
   "outputs": [
    {
     "ename": "TypeError",
     "evalue": "'tuple' object does not support item assignment",
     "output_type": "error",
     "traceback": [
      "\u001b[0;31m---------------------------------------------------------------------------\u001b[0m",
      "\u001b[0;31mTypeError\u001b[0m                                 Traceback (most recent call last)",
      "Cell \u001b[0;32mIn[16], line 1\u001b[0m\n\u001b[0;32m----> 1\u001b[0m \u001b[43ma\u001b[49m\u001b[43m[\u001b[49m\u001b[38;5;241;43m0\u001b[39;49m\u001b[43m]\u001b[49m \u001b[38;5;241m=\u001b[39m \u001b[38;5;241m18\u001b[39m\n\u001b[1;32m      2\u001b[0m \u001b[38;5;28mprint\u001b[39m(\u001b[38;5;124m\"\u001b[39m\u001b[38;5;124mRandom List\u001b[39m\u001b[38;5;124m\"\u001b[39m, a)\n",
      "\u001b[0;31mTypeError\u001b[0m: 'tuple' object does not support item assignment"
     ]
    }
   ],
   "source": [
    "a[0] = 18\n",
    "print(\"Random List\", a)"
   ]
  },
  {
   "cell_type": "markdown",
   "id": "7cbc61ed-7501-4de5-9aca-96e746c8cdd2",
   "metadata": {},
   "source": [
    "5) Sets"
   ]
  },
  {
   "cell_type": "raw",
   "id": "f2d64cc5-9989-4c11-bb9b-b4c09f5bd24e",
   "metadata": {},
   "source": [
    "-> Sets are unordered  and unique collection of elements.\n",
    "-> It doesn't allow duplicate elements.\n",
    "-> Indexing will not work."
   ]
  },
  {
   "cell_type": "code",
   "execution_count": 17,
   "id": "ee0c2bf6-dbff-4be9-b7c5-cb7077c5d6ec",
   "metadata": {},
   "outputs": [
    {
     "ename": "TypeError",
     "evalue": "unsupported operand type(s) for +: 'set' and 'set'",
     "output_type": "error",
     "traceback": [
      "\u001b[0;31m---------------------------------------------------------------------------\u001b[0m",
      "\u001b[0;31mTypeError\u001b[0m                                 Traceback (most recent call last)",
      "Cell \u001b[0;32mIn[17], line 3\u001b[0m\n\u001b[1;32m      1\u001b[0m a \u001b[38;5;241m=\u001b[39m {\u001b[38;5;124m\"\u001b[39m\u001b[38;5;124mSouth Korea\u001b[39m\u001b[38;5;124m\"\u001b[39m, \u001b[38;5;124m\"\u001b[39m\u001b[38;5;124mLee Jung Suk\u001b[39m\u001b[38;5;124m\"\u001b[39m, \u001b[38;5;124m\"\u001b[39m\u001b[38;5;124mSong Kang\u001b[39m\u001b[38;5;124m\"\u001b[39m}\n\u001b[1;32m      2\u001b[0m b \u001b[38;5;241m=\u001b[39m {\u001b[38;5;124m\"\u001b[39m\u001b[38;5;124mSweet Home\u001b[39m\u001b[38;5;124m\"\u001b[39m, \u001b[38;5;124m\"\u001b[39m\u001b[38;5;124mDoctor Strange\u001b[39m\u001b[38;5;124m\"\u001b[39m, \u001b[38;5;124m\"\u001b[39m\u001b[38;5;124mTwo Worlds\u001b[39m\u001b[38;5;124m\"\u001b[39m}\n\u001b[0;32m----> 3\u001b[0m \u001b[43ma\u001b[49m\u001b[43m \u001b[49m\u001b[38;5;241;43m+\u001b[39;49m\u001b[43m \u001b[49m\u001b[43mb\u001b[49m\n",
      "\u001b[0;31mTypeError\u001b[0m: unsupported operand type(s) for +: 'set' and 'set'"
     ]
    }
   ],
   "source": [
    "a = {\"South Korea\", \"Lee Jung Suk\", \"Song Kang\"}\n",
    "b = {\"Sweet Home\", \"Doctor Strange\", \"Two Worlds\"}\n",
    "a + b"
   ]
  },
  {
   "cell_type": "code",
   "execution_count": 25,
   "id": "3bad15da-2288-4559-b843-b7e930d672d0",
   "metadata": {},
   "outputs": [
    {
     "data": {
      "text/plain": [
       "{'Doctor Strange',\n",
       " 'Lee Jung Suk',\n",
       " 'Song Kang',\n",
       " 'South Korea',\n",
       " 'Sweet Home',\n",
       " 'Two Worlds'}"
      ]
     },
     "execution_count": 25,
     "metadata": {},
     "output_type": "execute_result"
    }
   ],
   "source": [
    "a | b #Union"
   ]
  },
  {
   "cell_type": "code",
   "execution_count": 26,
   "id": "a3d1bc89-d965-4e6f-bf27-e207c93dc031",
   "metadata": {},
   "outputs": [
    {
     "data": {
      "text/plain": [
       "set()"
      ]
     },
     "execution_count": 26,
     "metadata": {},
     "output_type": "execute_result"
    }
   ],
   "source": [
    "a & b #Intersection"
   ]
  },
  {
   "cell_type": "code",
   "execution_count": 27,
   "id": "cdab8186-9085-4720-a991-2d6b497ec00b",
   "metadata": {},
   "outputs": [
    {
     "data": {
      "text/plain": [
       "{'Lee Jung Suk', 'Song Kang', 'South Korea'}"
      ]
     },
     "execution_count": 27,
     "metadata": {},
     "output_type": "execute_result"
    }
   ],
   "source": [
    "a - b #Difference"
   ]
  },
  {
   "cell_type": "code",
   "execution_count": 28,
   "id": "4a138ca9-1deb-478b-b2c8-4bfd69094d71",
   "metadata": {},
   "outputs": [
    {
     "data": {
      "text/plain": [
       "{'Doctor Strange',\n",
       " 'Lee Jung Suk',\n",
       " 'Song Kang',\n",
       " 'South Korea',\n",
       " 'Sweet Home',\n",
       " 'Two Worlds'}"
      ]
     },
     "execution_count": 28,
     "metadata": {},
     "output_type": "execute_result"
    }
   ],
   "source": [
    "a ^ b #Symmetric Difference"
   ]
  },
  {
   "cell_type": "markdown",
   "id": "a11f35df-f43c-45d6-9d81-1332a6fdface",
   "metadata": {},
   "source": [
    "6) Use Cases of Tuple & Sets"
   ]
  },
  {
   "cell_type": "code",
   "execution_count": 31,
   "id": "c08f262f-02fa-4236-84f6-f96de7352a52",
   "metadata": {},
   "outputs": [
    {
     "name": "stdout",
     "output_type": "stream",
     "text": [
      "1 <class 'int'>\n",
      "2 <class 'int'>\n",
      "3 <class 'int'>\n",
      "4 <class 'int'>\n",
      "5 <class 'int'>\n",
      "South Korea <class 'str'>\n"
     ]
    }
   ],
   "source": [
    "#Tuple\n",
    "a = (1, 2, 3, 4, 5, \"South Korea\")\n",
    "for i in a:\n",
    "    print(i, type(i))"
   ]
  },
  {
   "cell_type": "code",
   "execution_count": 32,
   "id": "13498e83-31c8-4832-aaa2-082d9e62832b",
   "metadata": {},
   "outputs": [
    {
     "name": "stdout",
     "output_type": "stream",
     "text": [
      "1 <class 'int'>\n",
      "2 <class 'int'>\n",
      "3 <class 'int'>\n",
      "4 <class 'int'>\n",
      "5 <class 'int'>\n",
      "South Korea <class 'str'>\n"
     ]
    }
   ],
   "source": [
    "#String\n",
    "a = {1, 2, 3, 4, 5, \"South Korea\"}\n",
    "for i in a:\n",
    "    print(i, type(i))"
   ]
  },
  {
   "cell_type": "markdown",
   "id": "b675f1d7-7725-4dae-bdb5-b10aaf3882b7",
   "metadata": {},
   "source": [
    "7) Add, Modify and Delete in dictionary"
   ]
  },
  {
   "cell_type": "raw",
   "id": "e75c2bbd-65c6-4068-96b2-88818b7d3164",
   "metadata": {},
   "source": [
    "The dictionary is a data structure that stores data as a key value pair "
   ]
  },
  {
   "cell_type": "code",
   "execution_count": 35,
   "id": "cdfdceda-68e7-4332-842e-4087f1ad5a17",
   "metadata": {},
   "outputs": [
    {
     "name": "stdout",
     "output_type": "stream",
     "text": [
      "{'Name': 'Manish', 'Email': '12345@gmail.com', 'Contact': 987654321, 'Address': 'Near Demon'}\n"
     ]
    }
   ],
   "source": [
    "#Add\n",
    "a = {\"Name\" : \"Manish\", \"Email\" : \"12345@gmail.com\", \"Contact\" : 987654321}\n",
    "a[\"Address\"] = \"Near Demon\"\n",
    "print(a)"
   ]
  },
  {
   "cell_type": "code",
   "execution_count": 38,
   "id": "8774e8d3-a119-4674-9af1-dd92a53f43c1",
   "metadata": {},
   "outputs": [
    {
     "ename": "NameError",
     "evalue": "name 'a' is not defined",
     "output_type": "error",
     "traceback": [
      "\u001b[0;31m---------------------------------------------------------------------------\u001b[0m",
      "\u001b[0;31mNameError\u001b[0m                                 Traceback (most recent call last)",
      "Cell \u001b[0;32mIn[38], line 3\u001b[0m\n\u001b[1;32m      1\u001b[0m \u001b[38;5;66;03m#Delete\u001b[39;00m\n\u001b[1;32m      2\u001b[0m \u001b[38;5;28;01mdel\u001b[39;00m a\n\u001b[0;32m----> 3\u001b[0m \u001b[38;5;28mprint\u001b[39m(\u001b[43ma\u001b[49m)\n",
      "\u001b[0;31mNameError\u001b[0m: name 'a' is not defined"
     ]
    }
   ],
   "source": [
    "#Delete\n",
    "del a\n",
    "print(a)"
   ]
  },
  {
   "cell_type": "code",
   "execution_count": 40,
   "id": "b666f725-ef89-4491-9f8b-7012c15e5c96",
   "metadata": {},
   "outputs": [
    {
     "name": "stdout",
     "output_type": "stream",
     "text": [
      "{'brand': 'H&M', 'model': 'Sweartshirt', 'year': 2024}\n"
     ]
    }
   ],
   "source": [
    "#Modidy\n",
    "a = {\n",
    "  \"brand\": \"H&M\",\n",
    "  \"model\": \"Sweartshirt\",\n",
    "  \"year\": 1964\n",
    "}\n",
    "a[\"year\"] = 2024\n",
    "print(a)"
   ]
  },
  {
   "cell_type": "markdown",
   "id": "6d66b56f-20b2-452f-a8c9-e07a7d8c4408",
   "metadata": {},
   "source": [
    "8) Dictionary Keys"
   ]
  },
  {
   "cell_type": "raw",
   "id": "6cdd5247-bd2a-4150-88d2-c2f217b979cc",
   "metadata": {},
   "source": [
    "-> Python dictionary keys() function is used to return a new view object that contains a list of all the keys in the dictionary."
   ]
  },
  {
   "cell_type": "code",
   "execution_count": 42,
   "id": "c225a66a-063c-4e9a-9ee6-a66b6f314948",
   "metadata": {},
   "outputs": [
    {
     "name": "stdout",
     "output_type": "stream",
     "text": [
      "dict_keys(['Name', 'Age', 'Salary', 'City', 'Education'])\n"
     ]
    }
   ],
   "source": [
    "\n",
    "# Python program to illustrate keys()\n",
    "# creating a dictionary\n",
    "stud = {'Name': 'Emily', 'Age': 28, 'Salary': 68000, 'City': 'Boston', 'Education': 'PG'}\n",
    "keys = stud.keys()\n",
    "print(keys)\n",
    "\n"
   ]
  },
  {
   "cell_type": "code",
   "execution_count": null,
   "id": "c0d7168e-06e1-4ee4-90a0-839aad2f12a1",
   "metadata": {},
   "outputs": [],
   "source": []
  }
 ],
 "metadata": {
  "kernelspec": {
   "display_name": "Python 3 (ipykernel)",
   "language": "python",
   "name": "python3"
  },
  "language_info": {
   "codemirror_mode": {
    "name": "ipython",
    "version": 3
   },
   "file_extension": ".py",
   "mimetype": "text/x-python",
   "name": "python",
   "nbconvert_exporter": "python",
   "pygments_lexer": "ipython3",
   "version": "3.10.8"
  }
 },
 "nbformat": 4,
 "nbformat_minor": 5
}
